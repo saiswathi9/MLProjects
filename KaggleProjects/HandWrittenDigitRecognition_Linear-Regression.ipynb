{
 "cells": [
  {
   "cell_type": "code",
   "execution_count": 32,
   "metadata": {},
   "outputs": [
    {
     "name": "stdout",
     "output_type": "stream",
     "text": [
      "[[ 0.  0.  1. 15. 13.  1.  0.  0.]\n",
      " [ 0.  0.  7. 16. 14.  8.  0.  0.]\n",
      " [ 0.  8. 12.  9.  2. 13.  2.  0.]\n",
      " [ 0.  7.  9.  1.  0.  6.  6.  0.]\n",
      " [ 0.  5.  9.  0.  0.  3.  9.  0.]\n",
      " [ 0.  0. 15.  2.  0.  8. 12.  0.]\n",
      " [ 0.  0.  9. 15. 13. 16.  6.  0.]\n",
      " [ 0.  0.  0. 13. 14.  8.  0.  0.]]\n",
      "[[54  0  0  0  1  0  0  0  0  0]\n",
      " [ 0 44  3  0  0  1  0  0  3  1]\n",
      " [ 0  0 49  1  0  0  0  0  0  0]\n",
      " [ 0  0  0 57  0  0  0  2  3  0]\n",
      " [ 0  2  0  0 59  0  0  3  0  1]\n",
      " [ 0  0  0  0  0 64  0  0  0  1]\n",
      " [ 0  0  0  0  0  1 56  0  0  1]\n",
      " [ 0  0  0  0  1  1  0 66  0  0]\n",
      " [ 0  3  0  0  0  0  0  0 45  3]\n",
      " [ 2  0  0  1  0  0  0  1  3 60]]\n",
      "0.9342327150084317\n"
     ]
    },
    {
     "data": {
      "text/plain": [
       "<Figure size 432x288 with 0 Axes>"
      ]
     },
     "metadata": {},
     "output_type": "display_data"
    },
    {
     "data": {
      "image/png": "[encoded data removed]",
      "text/plain": [
       "<Figure size 288x288 with 1 Axes>"
      ]
     },
     "metadata": {},
     "output_type": "display_data"
    }
   ],
   "source": [
    "from sklearn.datasets import load_digits\n",
    "from sklearn.metrics import confusion_matrix,accuracy_score\n",
    "from sklearn.linear_model import RidgeClassifier\n",
    "from sklearn.cross_validation import train_test_split\n",
    "import numpy as np\n",
    "from matplotlib import *\n",
    "import matplotlib.pyplot as plt\n",
    "digit = load_digits()\n",
    "plt.gray()\n",
    "plt.matshow(digit.images[49])\n",
    "plt.show\n",
    "print(digit.images[49])\n",
    "X=digit.data[:-1]\n",
    "y=digit.target[:-1]\n",
    "X_train, X_test, y_train, y_test = train_test_split(X, y, test_size=0.33, random_state=42)\n",
    "reg=RidgeClassifier().fit(X_train,y_train)\n",
    "#reg.score(digit.data[:-1],digit.target[:-1])\n",
    "p=reg.predict(X_test)\n",
    "score=confusion_matrix(y_test, p)\n",
    "acc=accuracy_score(y_test, p)\n",
    "print(score)\n",
    "print(acc)"
   ]
  },
  {
   "cell_type": "code",
   "execution_count": null,
   "metadata": {},
   "outputs": [],
   "source": []
  }
 ],
 "metadata": {
  "kernelspec": {
   "display_name": "Python 3",
   "language": "python",
   "name": "python3"
  },
  "language_info": {
   "codemirror_mode": {
    "name": "ipython",
    "version": 3
   },
   "file_extension": ".py",
   "mimetype": "text/x-python",
   "name": "python",
   "nbconvert_exporter": "python",
   "pygments_lexer": "ipython3",
   "version": "3.6.4"
  }
 },
 "nbformat": 4,
 "nbformat_minor": 2
}
